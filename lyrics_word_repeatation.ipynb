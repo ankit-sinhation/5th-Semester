{
 "cells": [
  {
   "cell_type": "code",
   "execution_count": 1,
   "metadata": {
    "collapsed": false
   },
   "outputs": [
    {
     "name": "stdout",
     "output_type": "stream",
     "text": [
      "Enter the lyrics of the song: Arey Dhink Chika Dhinka Chaika Dhink Chika Dhinka Chaika Re Ae Ae Ae Ae Ae Barah Mahine Mein Barah Traike Se Tujko Pyar Jataonga Re Dhink Chika Dhinka Chaika Dhink Chika Dhinka Chaika Re Ae Ae Ae Ae Ae\n",
      "----------------------------------------\n",
      "The most repeated word in the lyrics given is ' Ae ' and is repeated 10 times.\n",
      "----------------------------------------\n"
     ]
    }
   ],
   "source": [
    "'''\n",
    "This code tells the most repeated word in the lyrics of a song.\n",
    "It also tells the number of times the word is repeated.\n",
    "NOTE: Input the lyrics excluding all the punctuations and extra space.\n",
    "Created On: 25-06-2019 using Jupyter Notebook 4.3.1\n",
    "Created By: Ankit Sinha\n",
    "'''\n",
    "'''\n",
    "Sample lyrics given:\n",
    "Arey Dhink Chika Dhinka Chaika Dhink Chika Dhinka Chaika Re Ae Ae Ae Ae Ae Barah Mahine Mein Barah Traike Se Tujko Pyar Jataonga Re Dhink Chika Dhinka Chaika Dhink Chika Dhinka Chaika Re Ae Ae Ae Ae Ae\n",
    "'''\n",
    "lyrics=input(\"Enter the lyrics of the song: \")\n",
    "l1=lyrics.split(\" \")\n",
    "l2=list(set(l1))\n",
    "flag=[]\n",
    "len_l2=len(l2)\n",
    "for i in range(0,len_l2):\n",
    "    flag.append(l1.count(l2[i]))\n",
    "max_val=max(flag)\n",
    "position=flag.index(max_val)\n",
    "print(\"----------------------------------------\")\n",
    "print(\"The most repeated word in the lyrics given is '\",l2[position],\"' and is repeated\",max_val,\"times.\")\n",
    "print(\"----------------------------------------\")"
   ]
  },
  {
   "cell_type": "code",
   "execution_count": null,
   "metadata": {
    "collapsed": true
   },
   "outputs": [],
   "source": []
  }
 ],
 "metadata": {
  "kernelspec": {
   "display_name": "Python 3",
   "language": "python",
   "name": "python3"
  },
  "language_info": {
   "codemirror_mode": {
    "name": "ipython",
    "version": 3
   },
   "file_extension": ".py",
   "mimetype": "text/x-python",
   "name": "python",
   "nbconvert_exporter": "python",
   "pygments_lexer": "ipython3",
   "version": "3.6.0"
  }
 },
 "nbformat": 4,
 "nbformat_minor": 2
}
