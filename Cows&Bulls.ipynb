{
 "cells": [
  {
   "cell_type": "code",
   "execution_count": 2,
   "metadata": {
    "collapsed": false
   },
   "outputs": [
    {
     "name": "stdout",
     "output_type": "stream",
     "text": [
      "bulls stands for wrong digit guess\n",
      "-----------------------------------\n",
      "cows stands for correct digit guess\n",
      "-----------------------------------\n",
      "Start Guessing The Number.\n",
      "-----------------------------------\n",
      "Dont cheat, jackpot is:  98213\n",
      "enter guess: 98211\n",
      "cows\n",
      "cows\n",
      "cows\n",
      "cows\n",
      "bulls\n",
      "try again: 98213\n",
      "cows\n",
      "cows\n",
      "cows\n",
      "cows\n",
      "cows\n",
      "-----------------------------------\n",
      "correct guess\n"
     ]
    }
   ],
   "source": [
    "print(\"bulls stands for wrong digit guess\")\n",
    "print(\"-----------------------------------\")\n",
    "print(\"cows stands for correct digit guess\")\n",
    "print(\"-----------------------------------\")\n",
    "print(\"Start Guessing The Number.\")\n",
    "print(\"-----------------------------------\")\n",
    "'''\n",
    "This is a Guessing Game.\n",
    "Random Module is used.\n",
    "Created On: 22-06-2019 using Jupyter Notebook 4.3.1\n",
    "Created By: Ankit Sinha\n",
    "'''\n",
    "import random\n",
    "jack=random.randint(10000,99999)\n",
    "jackpot=str(jack)\n",
    "print(\"Dont cheat, jackpot is: \",jackpot)\n",
    "l1=[]\n",
    "l1.extend(jackpot)\n",
    "l2=[]\n",
    "guess=input(\"enter guess: \")\n",
    "l2.extend(guess)\n",
    "length=len(l1)\n",
    "while(guess!=jackpot):\n",
    "    if(guess==jackpot):\n",
    "        print(\"cows cows cows cows\")\n",
    "    else:\n",
    "        i=0\n",
    "        while(i!=len(l1)):\n",
    "            if(l1[i]==l2[i]):\n",
    "                print(\"cows\")\n",
    "                i+=1\n",
    "            else:\n",
    "                print(\"bulls\")\n",
    "                i+=1\n",
    "        l2=[]\n",
    "        guess=input(\"try again: \")\n",
    "        l2.extend(guess)\n",
    "for i in l1:        \n",
    "    print(\"cows\")\n",
    "print(\"-----------------------------------\")\n",
    "print(\"correct guess\")\n"
   ]
  },
  {
   "cell_type": "code",
   "execution_count": null,
   "metadata": {
    "collapsed": true
   },
   "outputs": [],
   "source": []
  }
 ],
 "metadata": {
  "kernelspec": {
   "display_name": "Python 3",
   "language": "python",
   "name": "python3"
  },
  "language_info": {
   "codemirror_mode": {
    "name": "ipython",
    "version": 3
   },
   "file_extension": ".py",
   "mimetype": "text/x-python",
   "name": "python",
   "nbconvert_exporter": "python",
   "pygments_lexer": "ipython3",
   "version": "3.6.0"
  }
 },
 "nbformat": 4,
 "nbformat_minor": 2
}
